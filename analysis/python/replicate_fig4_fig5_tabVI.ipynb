{
 "cells": [
  {
   "cell_type": "markdown",
   "metadata": {},
   "source": [
    "# Setup"
   ]
  },
  {
   "cell_type": "code",
   "execution_count": 8,
   "metadata": {},
   "outputs": [
    {
     "data": {
      "image/png": "[encoded data removed]",
      "text/plain": [
       "<Figure size 288x72 with 1 Axes>"
      ]
     },
     "metadata": {},
     "output_type": "display_data"
    }
   ],
   "source": [
    "# load required packages\n",
    "import numpy as np\n",
    "import pandas as pd\n",
    "import matplotlib.pyplot as plt\n",
    "import seaborn as sns; sns.set()\n",
    "import statsmodels.api as sm\n",
    "import pickle\n",
    "import joblib\n",
    "from __future__ import division\n",
    "from IPython.display import display\n",
    "\n",
    "# set styling for plots\n",
    "%matplotlib inline  \n",
    "sns.set(style = \"whitegrid\")\n",
    "sns.set_palette('cubehelix',4)\n",
    "plt.rc('text', usetex=True)\n",
    "plt.rc('font', family='serif')\n",
    "sns.palplot(sns.color_palette())\n",
    "\n",
    "# define names of models\n",
    "clfs = [\"LogitNonLinear\",\"RandomForestIsotonic\"]\n",
    "outnames = {\"LogitNonLinear\": \"Nonlinear Logit\",\"RandomForestIsotonic\" : \"Random Forest\",\"xgboost_output\": \"XGBoost\",\"Difference\" : \"Difference\"}\n",
    "\n",
    "# set race categories for plots\n",
    "plotrace = [\"Asian\",\"White Non-Hispanic\",\"White Hispanic\",\"Black\"]"
   ]
  },
  {
   "cell_type": "markdown",
   "metadata": {},
   "source": [
    "# Load and clean data"
   ]
  },
  {
   "cell_type": "code",
   "execution_count": 9,
   "metadata": {},
   "outputs": [],
   "source": [
    "# set paths to saved data\n",
    "path = '../../data/' \n",
    "\n",
    "# load main dataset \n",
    "allvals = pd.read_csv(path + 'all_vals_race1_interestrate1.csv',index_col=0)\n",
    "\n",
    "# load predictions \n",
    "preds00 = pd.read_csv(path + '../output/_race0_interestrate0.csv',index_col=0) \n",
    "\n",
    "# load saved classifiers and save feature names\n",
    "clfpath = '../../output/'\n",
    "models = {}; features = {}\n",
    "for name in clfs:\n",
    "    if name.startswith('Logit'):\n",
    "        models[name] = pickle.load(open(clfpath + name + \"_race0_interestrate0.pkl\",'rb'))\n",
    "        features[name] = list(models[name].params.index)\n",
    "    else:\n",
    "        models[name] = joblib.load(open(clfpath + name + \"_race0_interestrate0.pkl\",'rb'))\n",
    "        features[name] = [x.lower() for x in list(pd.read_csv(path + 'feature_names_norace' + name + '.csv').columns)]\n",
    "features['RandomForestIsotonic'].remove('sato')"
   ]
  },
  {
   "cell_type": "code",
   "execution_count": 10,
   "metadata": {},
   "outputs": [],
   "source": [
    "# clean race variable in main data\n",
    "racecols = [col for col in list(allvals) if col.startswith('race_dum')]\n",
    "allvals[\"White Non-Hispanic\"] = 1 -  allvals[racecols].sum(axis=1)\n",
    "allvals[\"Race\"] = allvals[racecols + [\"White Non-Hispanic\"]].idxmax(axis=1).str.replace('race_dum_','').replace('White hisp','White Hispanic')"
   ]
  },
  {
   "cell_type": "code",
   "execution_count": 11,
   "metadata": {},
   "outputs": [],
   "source": [
    "# merge main data and predictions \n",
    "#df0 = allvals.drop(['LogitNonLinear','RandomForest','RandomForestIsotonic'], axis=\"columns\")\n",
    "df0 = allvals\n",
    "df0 = df0.join(preds00)"
   ]
  },
  {
   "cell_type": "markdown",
   "metadata": {},
   "source": [
    "# Figure 4: Example heatmaps"
   ]
  },
  {
   "cell_type": "code",
   "execution_count": 12,
   "metadata": {},
   "outputs": [],
   "source": [
    "# utility for adding fico, ltv and income bins used by logit to a dataframe\n",
    "def mkbins(df):\n",
    "    bins = pd.DataFrame(index = df.index)\n",
    "\n",
    "    fico_cuts = [0] + list(range(280,870,20))\n",
    "    fico_bin = pd.cut(df[\"fico_orig_fill\"], fico_cuts, labels = fico_cuts[0:-1], right = False).fillna(0)\n",
    "    fico_bin.loc[(fico_bin>0) & (fico_bin < 600),] = 600\n",
    "    fico_bin.loc[fico_bin==840,] = 820\n",
    "\n",
    "    ltv_cuts = list(range(20,110,5))\n",
    "    ltv_bin = pd.cut(df[\"ltv_ratio_fill\"], ltv_cuts, labels = ltv_cuts[0:-1], right = False)\n",
    "    ltv_80 = (df[\"ltv_ratio_fill\"]==80.0).astype(int)    \n",
    "\n",
    "    inc_cuts = list(range(-25,550,25))\n",
    "    income_bin = pd.cut(df[\"applicant_income\"],inc_cuts, labels = inc_cuts[0:-1],right = False)\n",
    "\n",
    "    bins = bins.join(pd.get_dummies(fico_bin, prefix = \"fico_bin_dum\"))\n",
    "    bins = bins.join(pd.get_dummies(income_bin, prefix = \"income_bin_dum\"))\n",
    "    bins = bins.join(pd.get_dummies(ltv_bin, prefix = \"ltv_bin_dum\"))\n",
    "    bins[\"ltv_80_dum_0\"] = 1 - ltv_80\n",
    "    bins['const'] = 1\n",
    "    return bins"
   ]
  },
  {
   "cell_type": "code",
   "execution_count": 13,
   "metadata": {},
   "outputs": [
    {
     "name": "stderr",
     "output_type": "stream",
     "text": [
      "[Parallel(n_jobs=2)]: Using backend ThreadingBackend with 2 concurrent workers.\n",
      "[Parallel(n_jobs=2)]: Done   2 out of   2 | elapsed:    0.2s remaining:    0.0s\n",
      "[Parallel(n_jobs=2)]: Done   2 out of   2 | elapsed:    0.2s finished\n"
     ]
    },
    {
     "ename": "KeyboardInterrupt",
     "evalue": "",
     "output_type": "error",
     "traceback": [
      "\u001b[0;31m---------------------------------------------------------------------------\u001b[0m",
      "\u001b[0;31mKeyboardInterrupt\u001b[0m                         Traceback (most recent call last)",
      "\u001b[0;32m<ipython-input-13-ec8765fd29a4>\u001b[0m in \u001b[0;36m<module>\u001b[0;34m\u001b[0m\n\u001b[1;32m     50\u001b[0m \u001b[0mheat\u001b[0m\u001b[0;34m[\u001b[0m\u001b[0;34m\"FICO\"\u001b[0m\u001b[0;34m]\u001b[0m \u001b[0;34m=\u001b[0m \u001b[0mpd\u001b[0m\u001b[0;34m.\u001b[0m\u001b[0mcut\u001b[0m\u001b[0;34m(\u001b[0m\u001b[0mallvals\u001b[0m\u001b[0;34m[\u001b[0m\u001b[0;34m\"fico_orig_fill\"\u001b[0m\u001b[0;34m]\u001b[0m\u001b[0;34m,\u001b[0m\u001b[0mfic_grid1\u001b[0m\u001b[0;34m,\u001b[0m\u001b[0mlabels\u001b[0m \u001b[0;34m=\u001b[0m \u001b[0mfic_grid1\u001b[0m\u001b[0;34m[\u001b[0m\u001b[0;36m1\u001b[0m\u001b[0;34m:\u001b[0m\u001b[0;34m]\u001b[0m\u001b[0;34m.\u001b[0m\u001b[0mastype\u001b[0m\u001b[0;34m(\u001b[0m\u001b[0;34m'int'\u001b[0m\u001b[0;34m)\u001b[0m\u001b[0;34m)\u001b[0m\u001b[0;34m\u001b[0m\u001b[0;34m\u001b[0m\u001b[0m\n\u001b[1;32m     51\u001b[0m \u001b[0;31m# heat[\"Minority\"] = ((race == \"Black\") | (race == \"White Hispanic\")).astype('int')\u001b[0m\u001b[0;34m\u001b[0m\u001b[0;34m\u001b[0m\u001b[0;34m\u001b[0m\u001b[0m\n\u001b[0;32m---> 52\u001b[0;31m \u001b[0mheat\u001b[0m\u001b[0;34m[\u001b[0m\u001b[0;34m\"Minority\"\u001b[0m\u001b[0;34m]\u001b[0m \u001b[0;34m=\u001b[0m \u001b[0;34m(\u001b[0m\u001b[0mrace\u001b[0m \u001b[0;34m==\u001b[0m \u001b[0;34m\"Black\"\u001b[0m\u001b[0;34m)\u001b[0m\u001b[0;34m.\u001b[0m\u001b[0mastype\u001b[0m\u001b[0;34m(\u001b[0m\u001b[0;34m'int'\u001b[0m\u001b[0;34m)\u001b[0m\u001b[0;34m\u001b[0m\u001b[0;34m\u001b[0m\u001b[0m\n\u001b[0m\u001b[1;32m     53\u001b[0m \u001b[0mheat\u001b[0m\u001b[0;34m[\u001b[0m\u001b[0;34m\"Majority\"\u001b[0m\u001b[0;34m]\u001b[0m \u001b[0;34m=\u001b[0m \u001b[0;34m(\u001b[0m\u001b[0mrace\u001b[0m \u001b[0;34m==\u001b[0m \u001b[0;34m\"White Non-Hispanic\"\u001b[0m\u001b[0;34m)\u001b[0m\u001b[0;34m.\u001b[0m\u001b[0mastype\u001b[0m\u001b[0;34m(\u001b[0m\u001b[0;34m'int'\u001b[0m\u001b[0;34m)\u001b[0m\u001b[0;34m\u001b[0m\u001b[0;34m\u001b[0m\u001b[0m\n\u001b[1;32m     54\u001b[0m \u001b[0minrange\u001b[0m \u001b[0;34m=\u001b[0m \u001b[0mheat\u001b[0m\u001b[0;34m[\u001b[0m\u001b[0;34m\"Income\"\u001b[0m\u001b[0;34m]\u001b[0m\u001b[0;34m.\u001b[0m\u001b[0mnotnull\u001b[0m\u001b[0;34m(\u001b[0m\u001b[0;34m)\u001b[0m \u001b[0;34m&\u001b[0m \u001b[0mheat\u001b[0m\u001b[0;34m[\u001b[0m\u001b[0;34m\"FICO\"\u001b[0m\u001b[0;34m]\u001b[0m\u001b[0;34m.\u001b[0m\u001b[0mnotnull\u001b[0m\u001b[0;34m(\u001b[0m\u001b[0;34m)\u001b[0m\u001b[0;34m\u001b[0m\u001b[0;34m\u001b[0m\u001b[0m\n",
      "\u001b[0;32m~/opt/anaconda3/lib/python3.8/site-packages/pandas/core/frame.py\u001b[0m in \u001b[0;36m__setitem__\u001b[0;34m(self, key, value)\u001b[0m\n\u001b[1;32m   3161\u001b[0m         \u001b[0;32melse\u001b[0m\u001b[0;34m:\u001b[0m\u001b[0;34m\u001b[0m\u001b[0;34m\u001b[0m\u001b[0m\n\u001b[1;32m   3162\u001b[0m             \u001b[0;31m# set column\u001b[0m\u001b[0;34m\u001b[0m\u001b[0;34m\u001b[0m\u001b[0;34m\u001b[0m\u001b[0m\n\u001b[0;32m-> 3163\u001b[0;31m             \u001b[0mself\u001b[0m\u001b[0;34m.\u001b[0m\u001b[0m_set_item\u001b[0m\u001b[0;34m(\u001b[0m\u001b[0mkey\u001b[0m\u001b[0;34m,\u001b[0m \u001b[0mvalue\u001b[0m\u001b[0;34m)\u001b[0m\u001b[0;34m\u001b[0m\u001b[0;34m\u001b[0m\u001b[0m\n\u001b[0m\u001b[1;32m   3164\u001b[0m \u001b[0;34m\u001b[0m\u001b[0m\n\u001b[1;32m   3165\u001b[0m     \u001b[0;32mdef\u001b[0m \u001b[0m_setitem_slice\u001b[0m\u001b[0;34m(\u001b[0m\u001b[0mself\u001b[0m\u001b[0;34m,\u001b[0m \u001b[0mkey\u001b[0m\u001b[0;34m:\u001b[0m \u001b[0mslice\u001b[0m\u001b[0;34m,\u001b[0m \u001b[0mvalue\u001b[0m\u001b[0;34m)\u001b[0m\u001b[0;34m:\u001b[0m\u001b[0;34m\u001b[0m\u001b[0;34m\u001b[0m\u001b[0m\n",
      "\u001b[0;32m~/opt/anaconda3/lib/python3.8/site-packages/pandas/core/frame.py\u001b[0m in \u001b[0;36m_set_item\u001b[0;34m(self, key, value)\u001b[0m\n\u001b[1;32m   3240\u001b[0m         \"\"\"\n\u001b[1;32m   3241\u001b[0m         \u001b[0mself\u001b[0m\u001b[0;34m.\u001b[0m\u001b[0m_ensure_valid_index\u001b[0m\u001b[0;34m(\u001b[0m\u001b[0mvalue\u001b[0m\u001b[0;34m)\u001b[0m\u001b[0;34m\u001b[0m\u001b[0;34m\u001b[0m\u001b[0m\n\u001b[0;32m-> 3242\u001b[0;31m         \u001b[0mvalue\u001b[0m \u001b[0;34m=\u001b[0m \u001b[0mself\u001b[0m\u001b[0;34m.\u001b[0m\u001b[0m_sanitize_column\u001b[0m\u001b[0;34m(\u001b[0m\u001b[0mkey\u001b[0m\u001b[0;34m,\u001b[0m \u001b[0mvalue\u001b[0m\u001b[0;34m)\u001b[0m\u001b[0;34m\u001b[0m\u001b[0;34m\u001b[0m\u001b[0m\n\u001b[0m\u001b[1;32m   3243\u001b[0m         \u001b[0mNDFrame\u001b[0m\u001b[0;34m.\u001b[0m\u001b[0m_set_item\u001b[0m\u001b[0;34m(\u001b[0m\u001b[0mself\u001b[0m\u001b[0;34m,\u001b[0m \u001b[0mkey\u001b[0m\u001b[0;34m,\u001b[0m \u001b[0mvalue\u001b[0m\u001b[0;34m)\u001b[0m\u001b[0;34m\u001b[0m\u001b[0;34m\u001b[0m\u001b[0m\n\u001b[1;32m   3244\u001b[0m \u001b[0;34m\u001b[0m\u001b[0m\n",
      "\u001b[0;32m~/opt/anaconda3/lib/python3.8/site-packages/pandas/core/frame.py\u001b[0m in \u001b[0;36m_sanitize_column\u001b[0;34m(self, key, value, broadcast)\u001b[0m\n\u001b[1;32m   3874\u001b[0m \u001b[0;34m\u001b[0m\u001b[0m\n\u001b[1;32m   3875\u001b[0m         \u001b[0;32mif\u001b[0m \u001b[0misinstance\u001b[0m\u001b[0;34m(\u001b[0m\u001b[0mvalue\u001b[0m\u001b[0;34m,\u001b[0m \u001b[0mSeries\u001b[0m\u001b[0;34m)\u001b[0m\u001b[0;34m:\u001b[0m\u001b[0;34m\u001b[0m\u001b[0;34m\u001b[0m\u001b[0m\n\u001b[0;32m-> 3876\u001b[0;31m             \u001b[0mvalue\u001b[0m \u001b[0;34m=\u001b[0m \u001b[0mreindexer\u001b[0m\u001b[0;34m(\u001b[0m\u001b[0mvalue\u001b[0m\u001b[0;34m)\u001b[0m\u001b[0;34m\u001b[0m\u001b[0;34m\u001b[0m\u001b[0m\n\u001b[0m\u001b[1;32m   3877\u001b[0m \u001b[0;34m\u001b[0m\u001b[0m\n\u001b[1;32m   3878\u001b[0m         \u001b[0;32melif\u001b[0m \u001b[0misinstance\u001b[0m\u001b[0;34m(\u001b[0m\u001b[0mvalue\u001b[0m\u001b[0;34m,\u001b[0m \u001b[0mDataFrame\u001b[0m\u001b[0;34m)\u001b[0m\u001b[0;34m:\u001b[0m\u001b[0;34m\u001b[0m\u001b[0;34m\u001b[0m\u001b[0m\n",
      "\u001b[0;32m~/opt/anaconda3/lib/python3.8/site-packages/pandas/core/frame.py\u001b[0m in \u001b[0;36mreindexer\u001b[0;34m(value)\u001b[0m\n\u001b[1;32m   3860\u001b[0m                 \u001b[0;31m# GH 4107\u001b[0m\u001b[0;34m\u001b[0m\u001b[0;34m\u001b[0m\u001b[0;34m\u001b[0m\u001b[0m\n\u001b[1;32m   3861\u001b[0m                 \u001b[0;32mtry\u001b[0m\u001b[0;34m:\u001b[0m\u001b[0;34m\u001b[0m\u001b[0;34m\u001b[0m\u001b[0m\n\u001b[0;32m-> 3862\u001b[0;31m                     \u001b[0mvalue\u001b[0m \u001b[0;34m=\u001b[0m \u001b[0mvalue\u001b[0m\u001b[0;34m.\u001b[0m\u001b[0mreindex\u001b[0m\u001b[0;34m(\u001b[0m\u001b[0mself\u001b[0m\u001b[0;34m.\u001b[0m\u001b[0mindex\u001b[0m\u001b[0;34m)\u001b[0m\u001b[0;34m.\u001b[0m\u001b[0m_values\u001b[0m\u001b[0;34m\u001b[0m\u001b[0;34m\u001b[0m\u001b[0m\n\u001b[0m\u001b[1;32m   3863\u001b[0m                 \u001b[0;32mexcept\u001b[0m \u001b[0mValueError\u001b[0m \u001b[0;32mas\u001b[0m \u001b[0merr\u001b[0m\u001b[0;34m:\u001b[0m\u001b[0;34m\u001b[0m\u001b[0;34m\u001b[0m\u001b[0m\n\u001b[1;32m   3864\u001b[0m                     \u001b[0;31m# raised in MultiIndex.from_tuples, see test_insert_error_msmgs\u001b[0m\u001b[0;34m\u001b[0m\u001b[0;34m\u001b[0m\u001b[0;34m\u001b[0m\u001b[0m\n",
      "\u001b[0;32m~/opt/anaconda3/lib/python3.8/site-packages/pandas/core/series.py\u001b[0m in \u001b[0;36mreindex\u001b[0;34m(self, index, **kwargs)\u001b[0m\n\u001b[1;32m   4343\u001b[0m     )\n\u001b[1;32m   4344\u001b[0m     \u001b[0;32mdef\u001b[0m \u001b[0mreindex\u001b[0m\u001b[0;34m(\u001b[0m\u001b[0mself\u001b[0m\u001b[0;34m,\u001b[0m \u001b[0mindex\u001b[0m\u001b[0;34m=\u001b[0m\u001b[0;32mNone\u001b[0m\u001b[0;34m,\u001b[0m \u001b[0;34m**\u001b[0m\u001b[0mkwargs\u001b[0m\u001b[0;34m)\u001b[0m\u001b[0;34m:\u001b[0m\u001b[0;34m\u001b[0m\u001b[0;34m\u001b[0m\u001b[0m\n\u001b[0;32m-> 4345\u001b[0;31m         \u001b[0;32mreturn\u001b[0m \u001b[0msuper\u001b[0m\u001b[0;34m(\u001b[0m\u001b[0;34m)\u001b[0m\u001b[0;34m.\u001b[0m\u001b[0mreindex\u001b[0m\u001b[0;34m(\u001b[0m\u001b[0mindex\u001b[0m\u001b[0;34m=\u001b[0m\u001b[0mindex\u001b[0m\u001b[0;34m,\u001b[0m \u001b[0;34m**\u001b[0m\u001b[0mkwargs\u001b[0m\u001b[0;34m)\u001b[0m\u001b[0;34m\u001b[0m\u001b[0;34m\u001b[0m\u001b[0m\n\u001b[0m\u001b[1;32m   4346\u001b[0m \u001b[0;34m\u001b[0m\u001b[0m\n\u001b[1;32m   4347\u001b[0m     def drop(\n",
      "\u001b[0;32m~/opt/anaconda3/lib/python3.8/site-packages/pandas/core/generic.py\u001b[0m in \u001b[0;36mreindex\u001b[0;34m(self, *args, **kwargs)\u001b[0m\n\u001b[1;32m   4809\u001b[0m \u001b[0;34m\u001b[0m\u001b[0m\n\u001b[1;32m   4810\u001b[0m         \u001b[0;31m# perform the reindex on the axes\u001b[0m\u001b[0;34m\u001b[0m\u001b[0;34m\u001b[0m\u001b[0;34m\u001b[0m\u001b[0m\n\u001b[0;32m-> 4811\u001b[0;31m         return self._reindex_axes(\n\u001b[0m\u001b[1;32m   4812\u001b[0m             \u001b[0maxes\u001b[0m\u001b[0;34m,\u001b[0m \u001b[0mlevel\u001b[0m\u001b[0;34m,\u001b[0m \u001b[0mlimit\u001b[0m\u001b[0;34m,\u001b[0m \u001b[0mtolerance\u001b[0m\u001b[0;34m,\u001b[0m \u001b[0mmethod\u001b[0m\u001b[0;34m,\u001b[0m \u001b[0mfill_value\u001b[0m\u001b[0;34m,\u001b[0m \u001b[0mcopy\u001b[0m\u001b[0;34m\u001b[0m\u001b[0;34m\u001b[0m\u001b[0m\n\u001b[1;32m   4813\u001b[0m         ).__finalize__(self, method=\"reindex\")\n",
      "\u001b[0;32m~/opt/anaconda3/lib/python3.8/site-packages/pandas/core/generic.py\u001b[0m in \u001b[0;36m_reindex_axes\u001b[0;34m(self, axes, level, limit, tolerance, method, fill_value, copy)\u001b[0m\n\u001b[1;32m   4825\u001b[0m \u001b[0;34m\u001b[0m\u001b[0m\n\u001b[1;32m   4826\u001b[0m             \u001b[0max\u001b[0m \u001b[0;34m=\u001b[0m \u001b[0mself\u001b[0m\u001b[0;34m.\u001b[0m\u001b[0m_get_axis\u001b[0m\u001b[0;34m(\u001b[0m\u001b[0ma\u001b[0m\u001b[0;34m)\u001b[0m\u001b[0;34m\u001b[0m\u001b[0;34m\u001b[0m\u001b[0m\n\u001b[0;32m-> 4827\u001b[0;31m             new_index, indexer = ax.reindex(\n\u001b[0m\u001b[1;32m   4828\u001b[0m                 \u001b[0mlabels\u001b[0m\u001b[0;34m,\u001b[0m \u001b[0mlevel\u001b[0m\u001b[0;34m=\u001b[0m\u001b[0mlevel\u001b[0m\u001b[0;34m,\u001b[0m \u001b[0mlimit\u001b[0m\u001b[0;34m=\u001b[0m\u001b[0mlimit\u001b[0m\u001b[0;34m,\u001b[0m \u001b[0mtolerance\u001b[0m\u001b[0;34m=\u001b[0m\u001b[0mtolerance\u001b[0m\u001b[0;34m,\u001b[0m \u001b[0mmethod\u001b[0m\u001b[0;34m=\u001b[0m\u001b[0mmethod\u001b[0m\u001b[0;34m\u001b[0m\u001b[0;34m\u001b[0m\u001b[0m\n\u001b[1;32m   4829\u001b[0m             )\n",
      "\u001b[0;32m~/opt/anaconda3/lib/python3.8/site-packages/pandas/core/indexes/base.py\u001b[0m in \u001b[0;36mreindex\u001b[0;34m(self, target, method, level, limit, tolerance)\u001b[0m\n\u001b[1;32m   3523\u001b[0m                             \u001b[0;34m\"with a method or limit\"\u001b[0m\u001b[0;34m\u001b[0m\u001b[0;34m\u001b[0m\u001b[0m\n\u001b[1;32m   3524\u001b[0m                         )\n\u001b[0;32m-> 3525\u001b[0;31m                     \u001b[0mindexer\u001b[0m\u001b[0;34m,\u001b[0m \u001b[0mmissing\u001b[0m \u001b[0;34m=\u001b[0m \u001b[0mself\u001b[0m\u001b[0;34m.\u001b[0m\u001b[0mget_indexer_non_unique\u001b[0m\u001b[0;34m(\u001b[0m\u001b[0mtarget\u001b[0m\u001b[0;34m)\u001b[0m\u001b[0;34m\u001b[0m\u001b[0;34m\u001b[0m\u001b[0m\n\u001b[0m\u001b[1;32m   3526\u001b[0m \u001b[0;34m\u001b[0m\u001b[0m\n\u001b[1;32m   3527\u001b[0m         \u001b[0;32mif\u001b[0m \u001b[0mpreserve_names\u001b[0m \u001b[0;32mand\u001b[0m \u001b[0mtarget\u001b[0m\u001b[0;34m.\u001b[0m\u001b[0mnlevels\u001b[0m \u001b[0;34m==\u001b[0m \u001b[0;36m1\u001b[0m \u001b[0;32mand\u001b[0m \u001b[0mtarget\u001b[0m\u001b[0;34m.\u001b[0m\u001b[0mname\u001b[0m \u001b[0;34m!=\u001b[0m \u001b[0mself\u001b[0m\u001b[0;34m.\u001b[0m\u001b[0mname\u001b[0m\u001b[0;34m:\u001b[0m\u001b[0;34m\u001b[0m\u001b[0;34m\u001b[0m\u001b[0m\n",
      "\u001b[0;32m~/opt/anaconda3/lib/python3.8/site-packages/pandas/core/indexes/base.py\u001b[0m in \u001b[0;36mget_indexer_non_unique\u001b[0;34m(self, target)\u001b[0m\n\u001b[1;32m   4941\u001b[0m             \u001b[0mtgt_values\u001b[0m \u001b[0;34m=\u001b[0m \u001b[0mtarget\u001b[0m\u001b[0;34m.\u001b[0m\u001b[0m_get_engine_target\u001b[0m\u001b[0;34m(\u001b[0m\u001b[0;34m)\u001b[0m\u001b[0;34m\u001b[0m\u001b[0;34m\u001b[0m\u001b[0m\n\u001b[1;32m   4942\u001b[0m \u001b[0;34m\u001b[0m\u001b[0m\n\u001b[0;32m-> 4943\u001b[0;31m         \u001b[0mindexer\u001b[0m\u001b[0;34m,\u001b[0m \u001b[0mmissing\u001b[0m \u001b[0;34m=\u001b[0m \u001b[0mself\u001b[0m\u001b[0;34m.\u001b[0m\u001b[0m_engine\u001b[0m\u001b[0;34m.\u001b[0m\u001b[0mget_indexer_non_unique\u001b[0m\u001b[0;34m(\u001b[0m\u001b[0mtgt_values\u001b[0m\u001b[0;34m)\u001b[0m\u001b[0;34m\u001b[0m\u001b[0;34m\u001b[0m\u001b[0m\n\u001b[0m\u001b[1;32m   4944\u001b[0m         \u001b[0;32mreturn\u001b[0m \u001b[0mensure_platform_int\u001b[0m\u001b[0;34m(\u001b[0m\u001b[0mindexer\u001b[0m\u001b[0;34m)\u001b[0m\u001b[0;34m,\u001b[0m \u001b[0mmissing\u001b[0m\u001b[0;34m\u001b[0m\u001b[0;34m\u001b[0m\u001b[0m\n\u001b[1;32m   4945\u001b[0m \u001b[0;34m\u001b[0m\u001b[0m\n",
      "\u001b[0;32mpandas/_libs/index.pyx\u001b[0m in \u001b[0;36mpandas._libs.index.IndexEngine.get_indexer_non_unique\u001b[0;34m()\u001b[0m\n",
      "\u001b[0;32m<__array_function__ internals>\u001b[0m in \u001b[0;36mresize\u001b[0;34m(*args, **kwargs)\u001b[0m\n",
      "\u001b[0;32m~/opt/anaconda3/lib/python3.8/site-packages/numpy/core/fromnumeric.py\u001b[0m in \u001b[0;36mresize\u001b[0;34m(a, new_shape)\u001b[0m\n\u001b[1;32m   1428\u001b[0m \u001b[0;34m\u001b[0m\u001b[0m\n\u001b[1;32m   1429\u001b[0m     \u001b[0mrepeats\u001b[0m \u001b[0;34m=\u001b[0m \u001b[0;34m-\u001b[0m\u001b[0;34m(\u001b[0m\u001b[0;34m-\u001b[0m\u001b[0mnew_size\u001b[0m \u001b[0;34m//\u001b[0m \u001b[0ma\u001b[0m\u001b[0;34m.\u001b[0m\u001b[0msize\u001b[0m\u001b[0;34m)\u001b[0m  \u001b[0;31m# ceil division\u001b[0m\u001b[0;34m\u001b[0m\u001b[0;34m\u001b[0m\u001b[0m\n\u001b[0;32m-> 1430\u001b[0;31m     \u001b[0ma\u001b[0m \u001b[0;34m=\u001b[0m \u001b[0mconcatenate\u001b[0m\u001b[0;34m(\u001b[0m\u001b[0;34m(\u001b[0m\u001b[0ma\u001b[0m\u001b[0;34m,\u001b[0m\u001b[0;34m)\u001b[0m \u001b[0;34m*\u001b[0m \u001b[0mrepeats\u001b[0m\u001b[0;34m)\u001b[0m\u001b[0;34m[\u001b[0m\u001b[0;34m:\u001b[0m\u001b[0mnew_size\u001b[0m\u001b[0;34m]\u001b[0m\u001b[0;34m\u001b[0m\u001b[0;34m\u001b[0m\u001b[0m\n\u001b[0m\u001b[1;32m   1431\u001b[0m \u001b[0;34m\u001b[0m\u001b[0m\n\u001b[1;32m   1432\u001b[0m     \u001b[0;32mreturn\u001b[0m \u001b[0mreshape\u001b[0m\u001b[0;34m(\u001b[0m\u001b[0ma\u001b[0m\u001b[0;34m,\u001b[0m \u001b[0mnew_shape\u001b[0m\u001b[0;34m)\u001b[0m\u001b[0;34m\u001b[0m\u001b[0;34m\u001b[0m\u001b[0m\n",
      "\u001b[0;32m<__array_function__ internals>\u001b[0m in \u001b[0;36mconcatenate\u001b[0;34m(*args, **kwargs)\u001b[0m\n",
      "\u001b[0;31mKeyboardInterrupt\u001b[0m: "
     ]
    }
   ],
   "source": [
    "# make predictions on fico/income grid in figure\n",
    "\n",
    "# grid of income / fico\n",
    "inc_grid = np.linspace(20,200,50)\n",
    "fic_grid = np.linspace(650,820,50)\n",
    "inc_list = [x for x in inc_grid for y in fic_grid]\n",
    "fic_list = [y for x in inc_grid for y in fic_grid]\n",
    "\n",
    "# set up grid\n",
    "G = len(inc_grid)*len(fic_grid)\n",
    "K = len(features[\"RandomForestIsotonic\"])\n",
    "x = pd.DataFrame(np.zeros((G,K)),columns = features[\"RandomForestIsotonic\"])\n",
    "\n",
    "# insert income/fico grids\n",
    "x[\"applicant_income\"]=inc_list\n",
    "x[\"fico_orig_fill\"]=fic_list\n",
    "\n",
    "# hard code the remaining variables as explained in paper \n",
    "ltv = 79.99 # exactly 80 doesn't work\n",
    "amt = 300000\n",
    "x[\"ltv_ratio_fill\"] = ltv\n",
    "x[\"orig_amt\"]=amt \n",
    "x[\"log_orig_amt\"]=np.log(amt)\n",
    "# x[\"sato\"] = 0\n",
    "x[\"occupancy_type_dum_1\"]= 1\n",
    "x[\"investor_type_dum_2\"] = 1\n",
    "x[\"loan_purpose_dum_1\"] = 1\n",
    "x[\"orig_year_dum_2011\"] = 1\n",
    "x[\"prop_state_dum_CA\"] = 1\n",
    "x[\"prop_state_dum_TX\"] = 0\n",
    "x[\"cur_int_rate\"] = 4.5\n",
    "\n",
    "xbins = mkbins(x)\n",
    "x = x.join(xbins)\n",
    "\n",
    "# predictions for PD contour plot \n",
    "pred = pd.DataFrame(index = x.index, columns = clfs)\n",
    "for name in clfs:\n",
    "    if name.startswith('Logit'): \n",
    "        pred[name] = models[name].predict(x[features[name]]) \n",
    "    else:\n",
    "        pred[name] = models[name].predict_proba(x[features[name]])[:,1]\n",
    "        \n",
    "# get group densities on grid\n",
    "race = df0['Race']\n",
    "inc_grid1 = np.linspace(20,200,10)\n",
    "fic_grid1 = np.linspace(650,820,10)\n",
    "heat = pd.DataFrame(index = allvals.index, columns = [\"Income\",\"FICO\",\"Minority\"])\n",
    "heat[\"Income\"] = pd.cut(allvals[\"applicant_income\"],inc_grid1,labels = inc_grid1[1:].astype('int'))\n",
    "heat[\"FICO\"] = pd.cut(allvals[\"fico_orig_fill\"],fic_grid1,labels = fic_grid1[1:].astype('int'))\n",
    "# heat[\"Minority\"] = ((race == \"Black\") | (race == \"White Hispanic\")).astype('int')\n",
    "heat[\"Minority\"] = (race == \"Black\").astype('int')\n",
    "heat[\"Majority\"] = (race == \"White Non-Hispanic\").astype('int')\n",
    "inrange = heat[\"Income\"].notnull() & heat[\"FICO\"].notnull()\n",
    "heat = heat[inrange]\n",
    "piv = {}\n",
    "piv['Black'] = pd.pivot_table(data = heat, index = \"FICO\", columns = \"Income\"\n",
    "                            , values = \"Minority\", fill_value = 0,\n",
    "                            aggfunc = (lambda x: x.sum()/heat[\"Minority\"].sum()))\n",
    "piv['White Non-Hispanic'] = pd.pivot_table(data = heat, index = \"FICO\", columns = \"Income\"\n",
    "                            , values = \"Majority\", fill_value = 0,\n",
    "                            aggfunc = (lambda x: x.sum()/heat[\"Majority\"].sum()))\n",
    "\n",
    "# draw contour plots\n",
    "X,Y = np.meshgrid(inc_grid,fic_grid)\n",
    "fig,ax = plt.subplots(2,len(clfs),figsize = (10,8))\n",
    "ext = [inc_grid1.min(),inc_grid1.max(), \n",
    "       fic_grid1.min(),fic_grid1.max()]\n",
    "cvals = [[0.1,0.2,0.3,0.5],[0.2,0.3,0.6,1,1.3,1.6]]\n",
    "for (i,name) in enumerate(clfs):\n",
    "    for (j,g) in enumerate(piv.keys()[::-1]):\n",
    "        # dist for group j\n",
    "        ax[i,j].imshow(piv[g][::-1],cmap=\"Purples\",extent = ext,alpha = 0.6)\n",
    "        \n",
    "        # contour for clf i overlaid\n",
    "        Z = pred[name].values.reshape(X.shape)\n",
    "       \n",
    "        CS = ax[i,j].contour(X,Y,100*Z,cvals[i],cmap=None,colors='k')\n",
    "        plt.clabel(CS, fontsize=14,inline=True,fmt='%1.1f')\n",
    "        \n",
    "#         ax[i,0].set_ylabel('%s' % (outnames[name]),fontsize=18)\n",
    "        ax[i,j].set_xlabel('Income',fontsize = 14)\n",
    "        ax[i,j].set_ylabel('FICO',fontsize = 14)\n",
    "\n",
    "\n",
    "        ax[i,j].set_title('%s: %s' % (outnames[name],g),fontsize=15)\n",
    "\n",
    "\n",
    "        ax[i,j].grid(False)\n",
    "        ax[i,j].tick_params(labelsize = 16)\n",
    "\n",
    "\n",
    "plt.tight_layout(pad=1)"
   ]
  },
  {
   "cell_type": "markdown",
   "metadata": {},
   "source": [
    "# Figure 5: CDFs"
   ]
  },
  {
   "cell_type": "code",
   "execution_count": 14,
   "metadata": {},
   "outputs": [
    {
     "data": {
      "image/png": "[encoded data removed]",
      "text/plain": [
       "<Figure size 540x360 with 1 Axes>"
      ]
     },
     "metadata": {},
     "output_type": "display_data"
    },
    {
     "data": {
      "image/png": "[encoded data removed]",
      "text/plain": [
       "<Figure size 540x360 with 1 Axes>"
      ]
     },
     "metadata": {},
     "output_type": "display_data"
    }
   ],
   "source": [
    "# utility for making cdf plots (diff of level or log PD)\n",
    "def cdf_pd_diff(df,race,plotrace,clfs,lim = (-1,1),log=False):\n",
    "    fig, ax = plt.subplots(1,1,figsize=(7.5,5))\n",
    "    if log:\n",
    "        diff = df[clfs[1]].apply(np.log) - df[clfs[0]].apply(np.log)\n",
    "        factor = 1\n",
    "    else:\n",
    "        diff = df[clfs[1]] - df[clfs[0]]\n",
    "        factor = 100\n",
    "    for group in plotrace:\n",
    "        x = np.sort(factor*(diff[race==group]))\n",
    "        y = np.linspace(1,x.shape[0],x.shape[0]) / x.shape[0]\n",
    "        ax.plot(x,y,label=group)\n",
    "    ax.set_xlim(lim); ax.set_ylim((0,1))\n",
    "    ax.set_xticks([-1,-0.5,0,0.5,1])\n",
    "#     ax.set_yticks([0,0.25,0.5,0.75,1])\n",
    "    ax.axvline(0,color='k')\n",
    "    ax.axhline(0.5,color='k',linestyle='--')\n",
    "    plt.xticks(fontsize=16); plt.yticks(fontsize = 16)\n",
    "    if log: \n",
    "        ax.set_xlabel('Log(PD from %s) - Log(PD from %s)' %(outnames[clfs[1]],outnames[clfs[0]]),fontsize = 18)\n",
    "    else:\n",
    "        ax.set_xlabel('PD from %s - PD from %s' %(outnames[clfs[1]],outnames[clfs[0]]),fontsize = 18)\n",
    "    ax.set_ylabel('Cumulative Share',fontsize=18)\n",
    "    ax.legend(frameon=True,framealpha=1,fontsize = 16,loc='lower right')\n",
    "\n",
    "# make figures\n",
    "race = df0['Race']\n",
    "cdf_pd_diff(df0,race,plotrace,clfs,lim = (-1,1),log=False)\n",
    "cdf_pd_diff(df0,race,plotrace,clfs,lim = (-1.5,1.5),log=True)"
   ]
  },
  {
   "cell_type": "markdown",
   "metadata": {},
   "source": [
    "# Table VI: Decomposition"
   ]
  },
  {
   "cell_type": "code",
   "execution_count": 15,
   "metadata": {},
   "outputs": [
    {
     "data": {
      "text/html": [
       "<div>\n",
       "<style scoped>\n",
       "    .dataframe tbody tr th:only-of-type {\n",
       "        vertical-align: middle;\n",
       "    }\n",
       "\n",
       "    .dataframe tbody tr th {\n",
       "        vertical-align: top;\n",
       "    }\n",
       "\n",
       "    .dataframe thead th {\n",
       "        text-align: right;\n",
       "    }\n",
       "</style>\n",
       "<table border=\"1\" class=\"dataframe\">\n",
       "  <thead>\n",
       "    <tr style=\"text-align: right;\">\n",
       "      <th></th>\n",
       "      <th>roc</th>\n",
       "      <th>precision</th>\n",
       "      <th>brier_score</th>\n",
       "    </tr>\n",
       "    <tr>\n",
       "      <th>model</th>\n",
       "      <th></th>\n",
       "      <th></th>\n",
       "      <th></th>\n",
       "    </tr>\n",
       "  </thead>\n",
       "  <tbody>\n",
       "    <tr>\n",
       "      <th>Logit</th>\n",
       "      <td>0.498538</td>\n",
       "      <td>0.007465</td>\n",
       "      <td>0.007415</td>\n",
       "    </tr>\n",
       "    <tr>\n",
       "      <th>LogitNonLinear</th>\n",
       "      <td>0.501351</td>\n",
       "      <td>0.007496</td>\n",
       "      <td>0.007415</td>\n",
       "    </tr>\n",
       "    <tr>\n",
       "      <th>RandomForest</th>\n",
       "      <td>0.498721</td>\n",
       "      <td>0.007448</td>\n",
       "      <td>0.007451</td>\n",
       "    </tr>\n",
       "    <tr>\n",
       "      <th>RandomForestIsotonic</th>\n",
       "      <td>0.499342</td>\n",
       "      <td>0.007448</td>\n",
       "      <td>0.007415</td>\n",
       "    </tr>\n",
       "  </tbody>\n",
       "</table>\n",
       "</div>"
      ],
      "text/plain": [
       "                           roc  precision  brier_score\n",
       "model                                                 \n",
       "Logit                 0.498538   0.007465     0.007415\n",
       "LogitNonLinear        0.501351   0.007496     0.007415\n",
       "RandomForest          0.498721   0.007448     0.007451\n",
       "RandomForestIsotonic  0.499342   0.007448     0.007415"
      ]
     },
     "metadata": {},
     "output_type": "display_data"
    },
    {
     "data": {
      "text/html": [
       "<div>\n",
       "<style scoped>\n",
       "    .dataframe tbody tr th:only-of-type {\n",
       "        vertical-align: middle;\n",
       "    }\n",
       "\n",
       "    .dataframe tbody tr th {\n",
       "        vertical-align: top;\n",
       "    }\n",
       "\n",
       "    .dataframe thead th {\n",
       "        text-align: right;\n",
       "    }\n",
       "</style>\n",
       "<table border=\"1\" class=\"dataframe\">\n",
       "  <thead>\n",
       "    <tr style=\"text-align: right;\">\n",
       "      <th></th>\n",
       "      <th>roc</th>\n",
       "      <th>precision</th>\n",
       "      <th>brier_score</th>\n",
       "    </tr>\n",
       "    <tr>\n",
       "      <th>model</th>\n",
       "      <th></th>\n",
       "      <th></th>\n",
       "      <th></th>\n",
       "    </tr>\n",
       "  </thead>\n",
       "  <tbody>\n",
       "    <tr>\n",
       "      <th>Logit</th>\n",
       "      <td>0.500043</td>\n",
       "      <td>0.007489</td>\n",
       "      <td>0.007415</td>\n",
       "    </tr>\n",
       "    <tr>\n",
       "      <th>LogitNonLinear</th>\n",
       "      <td>0.501351</td>\n",
       "      <td>0.007496</td>\n",
       "      <td>0.007415</td>\n",
       "    </tr>\n",
       "    <tr>\n",
       "      <th>RandomForest</th>\n",
       "      <td>0.497118</td>\n",
       "      <td>0.007426</td>\n",
       "      <td>0.007454</td>\n",
       "    </tr>\n",
       "    <tr>\n",
       "      <th>RandomForestIsotonic</th>\n",
       "      <td>0.499291</td>\n",
       "      <td>0.007463</td>\n",
       "      <td>0.007415</td>\n",
       "    </tr>\n",
       "  </tbody>\n",
       "</table>\n",
       "</div>"
      ],
      "text/plain": [
       "                           roc  precision  brier_score\n",
       "model                                                 \n",
       "Logit                 0.500043   0.007489     0.007415\n",
       "LogitNonLinear        0.501351   0.007496     0.007415\n",
       "RandomForest          0.497118   0.007426     0.007454\n",
       "RandomForestIsotonic  0.499291   0.007463     0.007415"
      ]
     },
     "metadata": {},
     "output_type": "display_data"
    },
    {
     "name": "stdout",
     "output_type": "stream",
     "text": [
      "adding race first\n"
     ]
    },
    {
     "data": {
      "text/html": [
       "<div>\n",
       "<style scoped>\n",
       "    .dataframe tbody tr th:only-of-type {\n",
       "        vertical-align: middle;\n",
       "    }\n",
       "\n",
       "    .dataframe tbody tr th {\n",
       "        vertical-align: top;\n",
       "    }\n",
       "\n",
       "    .dataframe thead th {\n",
       "        text-align: right;\n",
       "    }\n",
       "</style>\n",
       "<table border=\"1\" class=\"dataframe\">\n",
       "  <thead>\n",
       "    <tr style=\"text-align: right;\">\n",
       "      <th></th>\n",
       "      <th>Race</th>\n",
       "      <th>Technology</th>\n",
       "    </tr>\n",
       "  </thead>\n",
       "  <tbody>\n",
       "    <tr>\n",
       "      <th>roc</th>\n",
       "      <td>0.0</td>\n",
       "      <td>100.0</td>\n",
       "    </tr>\n",
       "    <tr>\n",
       "      <th>precision</th>\n",
       "      <td>0.0</td>\n",
       "      <td>100.0</td>\n",
       "    </tr>\n",
       "    <tr>\n",
       "      <th>brier_score</th>\n",
       "      <td>0.0</td>\n",
       "      <td>100.0</td>\n",
       "    </tr>\n",
       "  </tbody>\n",
       "</table>\n",
       "</div>"
      ],
      "text/plain": [
       "             Race  Technology\n",
       "roc           0.0       100.0\n",
       "precision     0.0       100.0\n",
       "brier_score   0.0       100.0"
      ]
     },
     "metadata": {},
     "output_type": "display_data"
    },
    {
     "name": "stdout",
     "output_type": "stream",
     "text": [
      "adding technology first\n"
     ]
    },
    {
     "data": {
      "text/html": [
       "<div>\n",
       "<style scoped>\n",
       "    .dataframe tbody tr th:only-of-type {\n",
       "        vertical-align: middle;\n",
       "    }\n",
       "\n",
       "    .dataframe tbody tr th {\n",
       "        vertical-align: top;\n",
       "    }\n",
       "\n",
       "    .dataframe thead th {\n",
       "        text-align: right;\n",
       "    }\n",
       "</style>\n",
       "<table border=\"1\" class=\"dataframe\">\n",
       "  <thead>\n",
       "    <tr style=\"text-align: right;\">\n",
       "      <th></th>\n",
       "      <th>Technology</th>\n",
       "      <th>Race</th>\n",
       "    </tr>\n",
       "  </thead>\n",
       "  <tbody>\n",
       "    <tr>\n",
       "      <th>roc</th>\n",
       "      <td>97.52</td>\n",
       "      <td>2.48</td>\n",
       "    </tr>\n",
       "    <tr>\n",
       "      <th>precision</th>\n",
       "      <td>146.89</td>\n",
       "      <td>-46.89</td>\n",
       "    </tr>\n",
       "    <tr>\n",
       "      <th>brier_score</th>\n",
       "      <td>100.37</td>\n",
       "      <td>-0.37</td>\n",
       "    </tr>\n",
       "  </tbody>\n",
       "</table>\n",
       "</div>"
      ],
      "text/plain": [
       "             Technology   Race\n",
       "roc               97.52   2.48\n",
       "precision        146.89 -46.89\n",
       "brier_score      100.37  -0.37"
      ]
     },
     "metadata": {},
     "output_type": "display_data"
    }
   ],
   "source": [
    "# import scores\n",
    "score00 = pd.read_csv(path + '../output/eval_output_race0_interestrate0.csv',index_col=0)\n",
    "score10 = pd.read_csv(path + '../output/eval_output_race1_interestrate0.csv',index_col=0)\n",
    "display(score00)\n",
    "display(score10)\n",
    "\n",
    "# decompositions using saved scores\n",
    "x_part = score00.loc[clfs[0]] - score00.loc[clfs[1]]\n",
    "total = score00.loc[clfs[0]] - score10.loc[clfs[1]]\n",
    "g_part = score00.loc[clfs[0]] - score10.loc[clfs[0]]\n",
    "\n",
    "racefirst = (100*pd.DataFrame({\"Race\": g_part / total, \"Technology\": 1 - g_part/ total})).astype('float').round(2)\n",
    "\n",
    "techfirst = (100*pd.DataFrame({\"Technology\": x_part/ total , \"Race\": 1 - x_part / total})).astype('float').round(2)\n",
    "techfirst = techfirst[[\"Technology\",\"Race\"]]\n",
    "\n",
    "print('adding race first')\n",
    "display(racefirst)\n",
    "print('adding technology first')\n",
    "display(techfirst)"
   ]
  },
  {
   "cell_type": "code",
   "execution_count": null,
   "metadata": {},
   "outputs": [],
   "source": []
  }
 ],
 "metadata": {
  "kernelspec": {
   "display_name": "Python 3",
   "language": "python",
   "name": "python3"
  },
  "language_info": {
   "codemirror_mode": {
    "name": "ipython",
    "version": 3
   },
   "file_extension": ".py",
   "mimetype": "text/x-python",
   "name": "python",
   "nbconvert_exporter": "python",
   "pygments_lexer": "ipython3",
   "version": "3.8.8"
  }
 },
 "nbformat": 4,
 "nbformat_minor": 2
}
